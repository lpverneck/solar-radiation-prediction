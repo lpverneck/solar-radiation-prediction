{
 "cells": [
  {
   "cell_type": "code",
   "execution_count": null,
   "metadata": {},
   "outputs": [],
   "source": [
    "# Libraries import\n",
    "\n",
    "import warnings\n",
    "import os\n",
    "import numpy as np\n",
    "import pandas as pd\n",
    "import matplotlib.pyplot as plt\n",
    "from sklearn.linear_model import LinearRegression\n",
    "from sklearn import metrics\n",
    "from sklearn.preprocessing import PolynomialFeatures\n",
    "warnings.filterwarnings('ignore')"
   ]
  },
  {
   "cell_type": "code",
   "execution_count": null,
   "metadata": {},
   "outputs": [],
   "source": [
    "# Selecting folder\n",
    "\n",
    "data_dir = os.getcwd()[0:-10] + \"\\\\data\\\\raw\"\n",
    "files = os.listdir(data_dir)\n",
    "files.pop(0)"
   ]
  },
  {
   "cell_type": "code",
   "execution_count": null,
   "metadata": {},
   "outputs": [],
   "source": [
    "# Loading the data (change 'files' index to modify meteorological station)\n",
    "\n",
    "df = pd.read_excel(data_dir + \"\\\\\" + files[0], header=1)"
   ]
  },
  {
   "cell_type": "code",
   "execution_count": null,
   "metadata": {},
   "outputs": [],
   "source": [
    "# Standardizing variable names, defining date index and adding new time variables\n",
    "\n",
    "df.columns = ['date', 'wind speed', 't max', 't min', 'humidity max', 'humidity min', 'vpd', 'evaporation', 'solar radiation']\n",
    "aux = df['date']\n",
    "df = df.set_index('date')\n",
    "df['year'] = df.index.year\n",
    "df['month'] = df.index.month\n",
    "df['weekday name'] = df.index.weekday_name\n",
    "\n",
    "df"
   ]
  },
  {
   "cell_type": "code",
   "execution_count": null,
   "metadata": {},
   "outputs": [],
   "source": [
    "# Data split\n",
    "\n",
    "X_train, X_test = df.loc['1998':'2008'], df.loc['2009':'2012']\n",
    "y_train, y_test = X_train['solar radiation'], X_test['solar radiation']\n",
    "X_train = X_train.drop(['year', 'month', 'weekday name', 'solar radiation'], axis=1)\n",
    "X_test = X_test.drop(['year', 'month', 'weekday name', 'solar radiation'], axis=1)"
   ]
  },
  {
   "cell_type": "code",
   "execution_count": null,
   "metadata": {},
   "outputs": [],
   "source": [
    "X_train"
   ]
  },
  {
   "cell_type": "markdown",
   "metadata": {},
   "source": [
    "### A) Multiple Linear Regression Model Using The Original Variables"
   ]
  },
  {
   "cell_type": "code",
   "execution_count": null,
   "metadata": {},
   "outputs": [],
   "source": [
    "# Fitting multiple linear regression model to the training set\n",
    "\n",
    "regressor_orig = LinearRegression(copy_X=True, fit_intercept=True, n_jobs=None, normalize=False)\n",
    "regressor_orig.fit(X_train, y_train)"
   ]
  },
  {
   "cell_type": "code",
   "execution_count": null,
   "metadata": {},
   "outputs": [],
   "source": [
    "# Predicting the test set results\n",
    "\n",
    "y_pred_orig = regressor_orig.predict(X_test)"
   ]
  },
  {
   "cell_type": "code",
   "execution_count": null,
   "metadata": {},
   "outputs": [],
   "source": [
    "# Calculation of metrics\n",
    "\n",
    "print(\"MSE:\", metrics.mean_squared_error(y_test, y_pred_orig, squared=True))\n",
    "print(\"RMSE:\", metrics.mean_squared_error(y_test, y_pred_orig, squared=False))\n",
    "print(\"MAE:\", metrics.mean_absolute_error(y_test, y_pred_orig))\n",
    "print(\"R²:\", metrics.r2_score(y_test, y_pred_orig))\n",
    "print(\"R²_adj:\", (1 - (1 - metrics.r2_score(y_test, y_pred_orig)) * ((X_train.shape[0] - 1) / (X_train.shape[0] - X_train.shape[1] - 1))))"
   ]
  },
  {
   "cell_type": "code",
   "execution_count": null,
   "metadata": {},
   "outputs": [],
   "source": [
    "# Estimated coefficients and independent term values\n",
    "\n",
    "print(\"Coefficients:\", regressor_orig.coef_)\n",
    "print(\"Intercept:\", regressor_orig.intercept_)"
   ]
  },
  {
   "cell_type": "code",
   "execution_count": null,
   "metadata": {},
   "outputs": [],
   "source": [
    "y_pred_orig_df = pd.DataFrame(data=y_pred_orig, index=aux[4018:])\n",
    "\n",
    "plt.figure()\n",
    "plt.plot(y_test)\n",
    "plt.plot(y_pred_orig_df, color='red')\n",
    "plt.title('Prediction vs Real Values')\n",
    "plt.xlabel('Date')\n",
    "plt.ylabel('Solar radiation')\n",
    "plt.show()"
   ]
  },
  {
   "cell_type": "markdown",
   "metadata": {},
   "source": [
    "### B) Multiple Linear Regression Model Adding Polynomial Features"
   ]
  },
  {
   "cell_type": "code",
   "execution_count": null,
   "metadata": {},
   "outputs": [],
   "source": [
    "# Creating polynomial features (degree = 2, interaction_only=False)\n",
    "\n",
    "poly_train = PolynomialFeatures(1, interaction_only=False)\n",
    "poly_test = PolynomialFeatures(1, interaction_only=False)\n",
    "X_train_pol = poly_train.fit_transform(X_train)\n",
    "X_test_pol = poly_test.fit_transform(X_test)"
   ]
  },
  {
   "cell_type": "code",
   "execution_count": null,
   "metadata": {},
   "outputs": [],
   "source": [
    "# Fitting multiple linear regression model to the training set\n",
    "\n",
    "regressor_pol = LinearRegression(copy_X=True, fit_intercept=True, n_jobs=None, normalize=False)\n",
    "regressor_pol.fit(X_train_pol, y_train)"
   ]
  },
  {
   "cell_type": "code",
   "execution_count": null,
   "metadata": {},
   "outputs": [],
   "source": [
    "# Predicting the test set results\n",
    "\n",
    "y_pred_pol = regressor_pol.predict(X_test_pol)"
   ]
  },
  {
   "cell_type": "code",
   "execution_count": null,
   "metadata": {},
   "outputs": [],
   "source": [
    "# Calculation of metrics\n",
    "\n",
    "print(\"MSE:\", metrics.mean_squared_error(y_test, y_pred_pol, squared=True))\n",
    "print(\"RMSE:\", metrics.mean_squared_error(y_test, y_pred_pol, squared=False))\n",
    "print(\"MAE:\", metrics.mean_absolute_error(y_test, y_pred_pol))\n",
    "print(\"R²:\", metrics.r2_score(y_test, y_pred_pol))\n",
    "print(\"R²_adj:\", (1 - (1 - metrics.r2_score(y_test, y_pred_pol)) * ((X_train_pol.shape[0] - 1) / (X_train_pol.shape[0] - X_train_pol.shape[1] - 1))))"
   ]
  },
  {
   "cell_type": "code",
   "execution_count": null,
   "metadata": {},
   "outputs": [],
   "source": [
    "# Estimated coefficients and independent term values\n",
    "\n",
    "print(\"Coefficients:\", regressor_pol.coef_)\n",
    "print(\"Intercept:\", regressor_pol.intercept_)"
   ]
  },
  {
   "cell_type": "code",
   "execution_count": null,
   "metadata": {},
   "outputs": [],
   "source": [
    "y_pred_pol_df = pd.DataFrame(data=y_pred_pol, index=aux[4018:])\n",
    "\n",
    "plt.figure()\n",
    "plt.plot(y_test)\n",
    "plt.plot(y_pred_pol_df, color='red')\n",
    "plt.title('Prediction vs Real Values')\n",
    "plt.xlabel('Date')\n",
    "plt.ylabel('Solar radiation')\n",
    "plt.show()"
   ]
  },
  {
   "cell_type": "code",
   "execution_count": null,
   "metadata": {},
   "outputs": [],
   "source": [
    "# Insert KFold + Pipeline procedure"
   ]
  },
  {
   "cell_type": "code",
   "execution_count": null,
   "metadata": {},
   "outputs": [],
   "source": []
  }
 ],
 "metadata": {
  "kernelspec": {
   "display_name": "Python 3",
   "language": "python",
   "name": "python3"
  },
  "language_info": {
   "codemirror_mode": {
    "name": "ipython",
    "version": 3
   },
   "file_extension": ".py",
   "mimetype": "text/x-python",
   "name": "python",
   "nbconvert_exporter": "python",
   "pygments_lexer": "ipython3",
   "version": "3.7.4"
  }
 },
 "nbformat": 4,
 "nbformat_minor": 2
}
