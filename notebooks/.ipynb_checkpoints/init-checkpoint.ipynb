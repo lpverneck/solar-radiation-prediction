{
 "cells": [
  {
   "cell_type": "code",
   "execution_count": 30,
   "metadata": {},
   "outputs": [],
   "source": [
    "# Importando as bibliotecas\n",
    "import os\n",
    "import numpy as np\n",
    "import pandas as pd\n",
    "import matplotlib.pyplot as plt\n",
    "import norm_test\n",
    "%matplotlib inline"
   ]
  },
  {
   "cell_type": "code",
   "execution_count": 28,
   "metadata": {},
   "outputs": [
    {
     "data": {
      "text/html": [
       "<div>\n",
       "<style scoped>\n",
       "    .dataframe tbody tr th:only-of-type {\n",
       "        vertical-align: middle;\n",
       "    }\n",
       "\n",
       "    .dataframe tbody tr th {\n",
       "        vertical-align: top;\n",
       "    }\n",
       "\n",
       "    .dataframe thead th {\n",
       "        text-align: right;\n",
       "    }\n",
       "</style>\n",
       "<table border=\"1\" class=\"dataframe\">\n",
       "  <thead>\n",
       "    <tr style=\"text-align: right;\">\n",
       "      <th></th>\n",
       "      <th>date</th>\n",
       "      <th>wind speed</th>\n",
       "      <th>t max</th>\n",
       "      <th>t min</th>\n",
       "      <th>humidity max</th>\n",
       "      <th>humidity min</th>\n",
       "      <th>vpd</th>\n",
       "      <th>evaporation</th>\n",
       "      <th>solar radiation</th>\n",
       "    </tr>\n",
       "  </thead>\n",
       "  <tbody>\n",
       "    <tr>\n",
       "      <th>0</th>\n",
       "      <td>1998-01-01</td>\n",
       "      <td>1.2</td>\n",
       "      <td>32.7</td>\n",
       "      <td>22.0</td>\n",
       "      <td>35</td>\n",
       "      <td>19</td>\n",
       "      <td>2.862456</td>\n",
       "      <td>4.75</td>\n",
       "      <td>20.8</td>\n",
       "    </tr>\n",
       "    <tr>\n",
       "      <th>1</th>\n",
       "      <td>1998-01-02</td>\n",
       "      <td>2.6</td>\n",
       "      <td>29.0</td>\n",
       "      <td>21.6</td>\n",
       "      <td>43</td>\n",
       "      <td>28</td>\n",
       "      <td>2.177387</td>\n",
       "      <td>5.55</td>\n",
       "      <td>16.5</td>\n",
       "    </tr>\n",
       "    <tr>\n",
       "      <th>2</th>\n",
       "      <td>1998-01-03</td>\n",
       "      <td>1.7</td>\n",
       "      <td>33.8</td>\n",
       "      <td>20.4</td>\n",
       "      <td>35</td>\n",
       "      <td>16</td>\n",
       "      <td>2.988294</td>\n",
       "      <td>5.36</td>\n",
       "      <td>18.3</td>\n",
       "    </tr>\n",
       "    <tr>\n",
       "      <th>3</th>\n",
       "      <td>1998-01-04</td>\n",
       "      <td>2.1</td>\n",
       "      <td>34.0</td>\n",
       "      <td>22.2</td>\n",
       "      <td>43</td>\n",
       "      <td>22</td>\n",
       "      <td>2.837267</td>\n",
       "      <td>6.13</td>\n",
       "      <td>21.9</td>\n",
       "    </tr>\n",
       "    <tr>\n",
       "      <th>4</th>\n",
       "      <td>1998-01-05</td>\n",
       "      <td>1.7</td>\n",
       "      <td>34.4</td>\n",
       "      <td>22.4</td>\n",
       "      <td>26</td>\n",
       "      <td>13</td>\n",
       "      <td>3.368273</td>\n",
       "      <td>5.64</td>\n",
       "      <td>19.8</td>\n",
       "    </tr>\n",
       "    <tr>\n",
       "      <th>...</th>\n",
       "      <td>...</td>\n",
       "      <td>...</td>\n",
       "      <td>...</td>\n",
       "      <td>...</td>\n",
       "      <td>...</td>\n",
       "      <td>...</td>\n",
       "      <td>...</td>\n",
       "      <td>...</td>\n",
       "      <td>...</td>\n",
       "    </tr>\n",
       "    <tr>\n",
       "      <th>5474</th>\n",
       "      <td>2012-12-27</td>\n",
       "      <td>1.8</td>\n",
       "      <td>29.4</td>\n",
       "      <td>18.4</td>\n",
       "      <td>43</td>\n",
       "      <td>22</td>\n",
       "      <td>2.201886</td>\n",
       "      <td>4.99</td>\n",
       "      <td>19.3</td>\n",
       "    </tr>\n",
       "    <tr>\n",
       "      <th>5475</th>\n",
       "      <td>2012-12-28</td>\n",
       "      <td>1.7</td>\n",
       "      <td>32.4</td>\n",
       "      <td>18.5</td>\n",
       "      <td>42</td>\n",
       "      <td>18</td>\n",
       "      <td>2.611593</td>\n",
       "      <td>5.37</td>\n",
       "      <td>21.4</td>\n",
       "    </tr>\n",
       "    <tr>\n",
       "      <th>5476</th>\n",
       "      <td>2012-12-29</td>\n",
       "      <td>1.8</td>\n",
       "      <td>31.5</td>\n",
       "      <td>17.0</td>\n",
       "      <td>39</td>\n",
       "      <td>16</td>\n",
       "      <td>2.532276</td>\n",
       "      <td>5.45</td>\n",
       "      <td>21.7</td>\n",
       "    </tr>\n",
       "    <tr>\n",
       "      <th>5477</th>\n",
       "      <td>2012-12-30</td>\n",
       "      <td>2.3</td>\n",
       "      <td>29.2</td>\n",
       "      <td>16.8</td>\n",
       "      <td>37</td>\n",
       "      <td>18</td>\n",
       "      <td>2.264097</td>\n",
       "      <td>5.80</td>\n",
       "      <td>21.9</td>\n",
       "    </tr>\n",
       "    <tr>\n",
       "      <th>5478</th>\n",
       "      <td>2012-12-31</td>\n",
       "      <td>2.3</td>\n",
       "      <td>30.0</td>\n",
       "      <td>15.1</td>\n",
       "      <td>38</td>\n",
       "      <td>15</td>\n",
       "      <td>2.335373</td>\n",
       "      <td>5.88</td>\n",
       "      <td>21.5</td>\n",
       "    </tr>\n",
       "  </tbody>\n",
       "</table>\n",
       "<p>5479 rows × 9 columns</p>\n",
       "</div>"
      ],
      "text/plain": [
       "           date  wind speed  t max  t min  humidity max  humidity min  \\\n",
       "0    1998-01-01         1.2   32.7   22.0            35            19   \n",
       "1    1998-01-02         2.6   29.0   21.6            43            28   \n",
       "2    1998-01-03         1.7   33.8   20.4            35            16   \n",
       "3    1998-01-04         2.1   34.0   22.2            43            22   \n",
       "4    1998-01-05         1.7   34.4   22.4            26            13   \n",
       "...         ...         ...    ...    ...           ...           ...   \n",
       "5474 2012-12-27         1.8   29.4   18.4            43            22   \n",
       "5475 2012-12-28         1.7   32.4   18.5            42            18   \n",
       "5476 2012-12-29         1.8   31.5   17.0            39            16   \n",
       "5477 2012-12-30         2.3   29.2   16.8            37            18   \n",
       "5478 2012-12-31         2.3   30.0   15.1            38            15   \n",
       "\n",
       "           vpd  evaporation  solar radiation  \n",
       "0     2.862456         4.75             20.8  \n",
       "1     2.177387         5.55             16.5  \n",
       "2     2.988294         5.36             18.3  \n",
       "3     2.837267         6.13             21.9  \n",
       "4     3.368273         5.64             19.8  \n",
       "...        ...          ...              ...  \n",
       "5474  2.201886         4.99             19.3  \n",
       "5475  2.611593         5.37             21.4  \n",
       "5476  2.532276         5.45             21.7  \n",
       "5477  2.264097         5.80             21.9  \n",
       "5478  2.335373         5.88             21.5  \n",
       "\n",
       "[5479 rows x 9 columns]"
      ]
     },
     "execution_count": 28,
     "metadata": {},
     "output_type": "execute_result"
    }
   ],
   "source": [
    "# Carregando os dados\n",
    "df1 = pd.read_excel('C:/Users/lucas/Desktop/bf-sr-project/data/raw/BoboDioulasso.xlsx', header=1)\n",
    "df1.columns = ['date', 'wind speed', 't max', 't min', 'humidity max', 'humidity min', 'vpd', 'evaporation', \n",
    "               'solar radiation']\n",
    "df1"
   ]
  },
  {
   "cell_type": "code",
   "execution_count": 32,
   "metadata": {},
   "outputs": [
    {
     "data": {
      "text/plain": [
       "array([[<matplotlib.axes._subplots.AxesSubplot object at 0x00000217E54A74C8>,\n",
       "        <matplotlib.axes._subplots.AxesSubplot object at 0x00000217E54E2BC8>,\n",
       "        <matplotlib.axes._subplots.AxesSubplot object at 0x00000217E5509048>],\n",
       "       [<matplotlib.axes._subplots.AxesSubplot object at 0x00000217E553DA08>,\n",
       "        <matplotlib.axes._subplots.AxesSubplot object at 0x00000217E5577408>,\n",
       "        <matplotlib.axes._subplots.AxesSubplot object at 0x00000217E55AADC8>],\n",
       "       [<matplotlib.axes._subplots.AxesSubplot object at 0x00000217E55E4788>,\n",
       "        <matplotlib.axes._subplots.AxesSubplot object at 0x00000217E589B1C8>,\n",
       "        <matplotlib.axes._subplots.AxesSubplot object at 0x00000217E58A4CC8>]],\n",
       "      dtype=object)"
      ]
     },
     "execution_count": 32,
     "metadata": {},
     "output_type": "execute_result"
    },
    {
     "data": {
      "image/png": "[encoded data removed]",
      "text/plain": [
       "<Figure size 432x288 with 9 Axes>"
      ]
     },
     "metadata": {
      "needs_background": "light"
     },
     "output_type": "display_data"
    }
   ],
   "source": [
    "# Plot do histograma\n",
    "df1.hist()"
   ]
  },
  {
   "cell_type": "code",
   "execution_count": 43,
   "metadata": {},
   "outputs": [
    {
     "name": "stdout",
     "output_type": "stream",
     "text": [
      "Statistics: 0.997 \n",
      "p-value: 0.000\n",
      "Sample does not look Normal. [Reject H0.]\n"
     ]
    },
    {
     "data": {
      "text/plain": [
       "3.3802709520358576e-09"
      ]
     },
     "execution_count": 43,
     "metadata": {},
     "output_type": "execute_result"
    }
   ],
   "source": [
    "# Testes de normalidade das variáveis\n",
    "norm_test.shapiro_test(df1['evaporation'].values, 0.05)"
   ]
  },
  {
   "cell_type": "code",
   "execution_count": 44,
   "metadata": {},
   "outputs": [
    {
     "name": "stdout",
     "output_type": "stream",
     "text": [
      "Statistics: 16.615 \n",
      "p-value: 0.000\n",
      "Sample does not look Normal. [Reject H0.]\n"
     ]
    },
    {
     "data": {
      "text/plain": [
       "0.0002466518845824954"
      ]
     },
     "execution_count": 44,
     "metadata": {},
     "output_type": "execute_result"
    }
   ],
   "source": [
    "norm_test.agostino_test(df1['evaporation'].values, 0.05)"
   ]
  },
  {
   "cell_type": "code",
   "execution_count": 49,
   "metadata": {},
   "outputs": [],
   "source": [
    "variables = ['wind speed', 't max', 't min', 'humidity max', 'humidity min', 'vpd', 'evaporation', 'solar radiation']"
   ]
  },
  {
   "cell_type": "code",
   "execution_count": 60,
   "metadata": {},
   "outputs": [
    {
     "name": "stdout",
     "output_type": "stream",
     "text": [
      "Variável: wind speed\n",
      "Teste Shapiro:\n",
      "Statistics: 0.989 \n",
      "p-value: 0.000\n",
      "Sample does not look Normal. [Reject H0.]\n",
      "-------------------------\n",
      "Teste D’Agostino’s K^2:\n",
      "Statistics: 158.203 \n",
      "p-value: 0.000\n",
      "Sample does not look Normal. [Reject H0.]\n",
      "=========================\n",
      "Variável: t max\n",
      "Teste Shapiro:\n",
      "Statistics: 0.992 \n",
      "p-value: 0.000\n",
      "Sample does not look Normal. [Reject H0.]\n",
      "-------------------------\n",
      "Teste D’Agostino’s K^2:\n",
      "Statistics: 117.531 \n",
      "p-value: 0.000\n",
      "Sample does not look Normal. [Reject H0.]\n",
      "=========================\n",
      "Variável: t min\n",
      "Teste Shapiro:\n",
      "Statistics: 0.986 \n",
      "p-value: 0.000\n",
      "Sample does not look Normal. [Reject H0.]\n",
      "-------------------------\n",
      "Teste D’Agostino’s K^2:\n",
      "Statistics: 121.875 \n",
      "p-value: 0.000\n",
      "Sample does not look Normal. [Reject H0.]\n",
      "=========================\n",
      "Variável: humidity max\n",
      "Teste Shapiro:\n",
      "Statistics: 0.859 \n",
      "p-value: 0.000\n",
      "Sample does not look Normal. [Reject H0.]\n",
      "-------------------------\n",
      "Teste D’Agostino’s K^2:\n",
      "Statistics: 47161.079 \n",
      "p-value: 0.000\n",
      "Sample does not look Normal. [Reject H0.]\n",
      "=========================\n",
      "Variável: humidity min\n",
      "Teste Shapiro:\n",
      "Statistics: 0.933 \n",
      "p-value: 0.000\n",
      "Sample does not look Normal. [Reject H0.]\n",
      "-------------------------\n",
      "Teste D’Agostino’s K^2:\n",
      "Statistics: 70580.823 \n",
      "p-value: 0.000\n",
      "Sample does not look Normal. [Reject H0.]\n",
      "=========================\n",
      "Variável: vpd\n",
      "Teste Shapiro:\n",
      "Statistics: 0.945 \n",
      "p-value: 0.000\n",
      "Sample does not look Normal. [Reject H0.]\n",
      "-------------------------\n",
      "Teste D’Agostino’s K^2:\n",
      "Statistics: 2139.495 \n",
      "p-value: 0.000\n",
      "Sample does not look Normal. [Reject H0.]\n",
      "=========================\n",
      "Variável: evaporation\n",
      "Teste Shapiro:\n",
      "Statistics: 0.997 \n",
      "p-value: 0.000\n",
      "Sample does not look Normal. [Reject H0.]\n",
      "-------------------------\n",
      "Teste D’Agostino’s K^2:\n",
      "Statistics: 16.615 \n",
      "p-value: 0.000\n",
      "Sample does not look Normal. [Reject H0.]\n",
      "=========================\n",
      "Variável: solar radiation\n",
      "Teste Shapiro:\n",
      "Statistics: 0.904 \n",
      "p-value: 0.000\n",
      "Sample does not look Normal. [Reject H0.]\n",
      "-------------------------\n",
      "Teste D’Agostino’s K^2:\n",
      "Statistics: 1418.729 \n",
      "p-value: 0.000\n",
      "Sample does not look Normal. [Reject H0.]\n",
      "=========================\n"
     ]
    }
   ],
   "source": [
    "for element in variables:\n",
    "    print(\"Variável:\", element)\n",
    "    print(\"Teste Shapiro:\")\n",
    "    norm_test.shapiro_test(df1[element].values, 0.05)\n",
    "    print(\"-------------------------\")\n",
    "    print(\"Teste D’Agostino’s K^2:\")\n",
    "    norm_test.agostino_test(df1[element].values, 0.05)\n",
    "    print(\"=========================\")"
   ]
  },
  {
   "cell_type": "code",
   "execution_count": null,
   "metadata": {},
   "outputs": [],
   "source": []
  }
 ],
 "metadata": {
  "kernelspec": {
   "display_name": "Python 3",
   "language": "python",
   "name": "python3"
  },
  "language_info": {
   "codemirror_mode": {
    "name": "ipython",
    "version": 3
   },
   "file_extension": ".py",
   "mimetype": "text/x-python",
   "name": "python",
   "nbconvert_exporter": "python",
   "pygments_lexer": "ipython3",
   "version": "3.7.4"
  }
 },
 "nbformat": 4,
 "nbformat_minor": 2
}
