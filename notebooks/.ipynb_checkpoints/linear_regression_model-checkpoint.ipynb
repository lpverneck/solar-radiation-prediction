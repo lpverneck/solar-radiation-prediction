{
 "cells": [
  {
   "cell_type": "code",
   "execution_count": 1,
   "metadata": {},
   "outputs": [],
   "source": [
    "# Libraries import\n",
    "\n",
    "import warnings\n",
    "import os\n",
    "import numpy as np\n",
    "import pandas as pd\n",
    "import matplotlib.pyplot as plt\n",
    "from sklearn.linear_model import LinearRegression\n",
    "from sklearn import metrics\n",
    "from sklearn.preprocessing import PolynomialFeatures\n",
    "warnings.filterwarnings('ignore')"
   ]
  },
  {
   "cell_type": "code",
   "execution_count": 2,
   "metadata": {},
   "outputs": [
    {
     "data": {
      "text/plain": [
       "'.gitignore'"
      ]
     },
     "execution_count": 2,
     "metadata": {},
     "output_type": "execute_result"
    }
   ],
   "source": [
    "# Selecting folder\n",
    "\n",
    "data_dir = os.getcwd()[0:-10] + \"\\\\data\\\\raw\"\n",
    "files = os.listdir(data_dir)\n",
    "files.pop(0)"
   ]
  },
  {
   "cell_type": "code",
   "execution_count": 3,
   "metadata": {},
   "outputs": [],
   "source": [
    "# Loading the data (change 'files' index to modify meteorological station)\n",
    "\n",
    "df = pd.read_excel(data_dir + \"\\\\\" + files[0], header=1)"
   ]
  },
  {
   "cell_type": "code",
   "execution_count": 4,
   "metadata": {},
   "outputs": [
    {
     "data": {
      "text/html": [
       "<div>\n",
       "<style scoped>\n",
       "    .dataframe tbody tr th:only-of-type {\n",
       "        vertical-align: middle;\n",
       "    }\n",
       "\n",
       "    .dataframe tbody tr th {\n",
       "        vertical-align: top;\n",
       "    }\n",
       "\n",
       "    .dataframe thead th {\n",
       "        text-align: right;\n",
       "    }\n",
       "</style>\n",
       "<table border=\"1\" class=\"dataframe\">\n",
       "  <thead>\n",
       "    <tr style=\"text-align: right;\">\n",
       "      <th></th>\n",
       "      <th>wind speed</th>\n",
       "      <th>t max</th>\n",
       "      <th>t min</th>\n",
       "      <th>humidity max</th>\n",
       "      <th>humidity min</th>\n",
       "      <th>vpd</th>\n",
       "      <th>evaporation</th>\n",
       "      <th>solar radiation</th>\n",
       "      <th>year</th>\n",
       "      <th>month</th>\n",
       "      <th>weekday name</th>\n",
       "    </tr>\n",
       "    <tr>\n",
       "      <th>date</th>\n",
       "      <th></th>\n",
       "      <th></th>\n",
       "      <th></th>\n",
       "      <th></th>\n",
       "      <th></th>\n",
       "      <th></th>\n",
       "      <th></th>\n",
       "      <th></th>\n",
       "      <th></th>\n",
       "      <th></th>\n",
       "      <th></th>\n",
       "    </tr>\n",
       "  </thead>\n",
       "  <tbody>\n",
       "    <tr>\n",
       "      <th>1998-01-01</th>\n",
       "      <td>1.2</td>\n",
       "      <td>32.7</td>\n",
       "      <td>22.0</td>\n",
       "      <td>35</td>\n",
       "      <td>19</td>\n",
       "      <td>2.862456</td>\n",
       "      <td>4.75</td>\n",
       "      <td>20.8</td>\n",
       "      <td>1998</td>\n",
       "      <td>1</td>\n",
       "      <td>Thursday</td>\n",
       "    </tr>\n",
       "    <tr>\n",
       "      <th>1998-01-02</th>\n",
       "      <td>2.6</td>\n",
       "      <td>29.0</td>\n",
       "      <td>21.6</td>\n",
       "      <td>43</td>\n",
       "      <td>28</td>\n",
       "      <td>2.177387</td>\n",
       "      <td>5.55</td>\n",
       "      <td>16.5</td>\n",
       "      <td>1998</td>\n",
       "      <td>1</td>\n",
       "      <td>Friday</td>\n",
       "    </tr>\n",
       "    <tr>\n",
       "      <th>1998-01-03</th>\n",
       "      <td>1.7</td>\n",
       "      <td>33.8</td>\n",
       "      <td>20.4</td>\n",
       "      <td>35</td>\n",
       "      <td>16</td>\n",
       "      <td>2.988294</td>\n",
       "      <td>5.36</td>\n",
       "      <td>18.3</td>\n",
       "      <td>1998</td>\n",
       "      <td>1</td>\n",
       "      <td>Saturday</td>\n",
       "    </tr>\n",
       "    <tr>\n",
       "      <th>1998-01-04</th>\n",
       "      <td>2.1</td>\n",
       "      <td>34.0</td>\n",
       "      <td>22.2</td>\n",
       "      <td>43</td>\n",
       "      <td>22</td>\n",
       "      <td>2.837267</td>\n",
       "      <td>6.13</td>\n",
       "      <td>21.9</td>\n",
       "      <td>1998</td>\n",
       "      <td>1</td>\n",
       "      <td>Sunday</td>\n",
       "    </tr>\n",
       "    <tr>\n",
       "      <th>1998-01-05</th>\n",
       "      <td>1.7</td>\n",
       "      <td>34.4</td>\n",
       "      <td>22.4</td>\n",
       "      <td>26</td>\n",
       "      <td>13</td>\n",
       "      <td>3.368273</td>\n",
       "      <td>5.64</td>\n",
       "      <td>19.8</td>\n",
       "      <td>1998</td>\n",
       "      <td>1</td>\n",
       "      <td>Monday</td>\n",
       "    </tr>\n",
       "    <tr>\n",
       "      <th>...</th>\n",
       "      <td>...</td>\n",
       "      <td>...</td>\n",
       "      <td>...</td>\n",
       "      <td>...</td>\n",
       "      <td>...</td>\n",
       "      <td>...</td>\n",
       "      <td>...</td>\n",
       "      <td>...</td>\n",
       "      <td>...</td>\n",
       "      <td>...</td>\n",
       "      <td>...</td>\n",
       "    </tr>\n",
       "    <tr>\n",
       "      <th>2012-12-27</th>\n",
       "      <td>1.8</td>\n",
       "      <td>29.4</td>\n",
       "      <td>18.4</td>\n",
       "      <td>43</td>\n",
       "      <td>22</td>\n",
       "      <td>2.201886</td>\n",
       "      <td>4.99</td>\n",
       "      <td>19.3</td>\n",
       "      <td>2012</td>\n",
       "      <td>12</td>\n",
       "      <td>Thursday</td>\n",
       "    </tr>\n",
       "    <tr>\n",
       "      <th>2012-12-28</th>\n",
       "      <td>1.7</td>\n",
       "      <td>32.4</td>\n",
       "      <td>18.5</td>\n",
       "      <td>42</td>\n",
       "      <td>18</td>\n",
       "      <td>2.611593</td>\n",
       "      <td>5.37</td>\n",
       "      <td>21.4</td>\n",
       "      <td>2012</td>\n",
       "      <td>12</td>\n",
       "      <td>Friday</td>\n",
       "    </tr>\n",
       "    <tr>\n",
       "      <th>2012-12-29</th>\n",
       "      <td>1.8</td>\n",
       "      <td>31.5</td>\n",
       "      <td>17.0</td>\n",
       "      <td>39</td>\n",
       "      <td>16</td>\n",
       "      <td>2.532276</td>\n",
       "      <td>5.45</td>\n",
       "      <td>21.7</td>\n",
       "      <td>2012</td>\n",
       "      <td>12</td>\n",
       "      <td>Saturday</td>\n",
       "    </tr>\n",
       "    <tr>\n",
       "      <th>2012-12-30</th>\n",
       "      <td>2.3</td>\n",
       "      <td>29.2</td>\n",
       "      <td>16.8</td>\n",
       "      <td>37</td>\n",
       "      <td>18</td>\n",
       "      <td>2.264097</td>\n",
       "      <td>5.80</td>\n",
       "      <td>21.9</td>\n",
       "      <td>2012</td>\n",
       "      <td>12</td>\n",
       "      <td>Sunday</td>\n",
       "    </tr>\n",
       "    <tr>\n",
       "      <th>2012-12-31</th>\n",
       "      <td>2.3</td>\n",
       "      <td>30.0</td>\n",
       "      <td>15.1</td>\n",
       "      <td>38</td>\n",
       "      <td>15</td>\n",
       "      <td>2.335373</td>\n",
       "      <td>5.88</td>\n",
       "      <td>21.5</td>\n",
       "      <td>2012</td>\n",
       "      <td>12</td>\n",
       "      <td>Monday</td>\n",
       "    </tr>\n",
       "  </tbody>\n",
       "</table>\n",
       "<p>5479 rows × 11 columns</p>\n",
       "</div>"
      ],
      "text/plain": [
       "            wind speed  t max  t min  humidity max  humidity min       vpd  \\\n",
       "date                                                                         \n",
       "1998-01-01         1.2   32.7   22.0            35            19  2.862456   \n",
       "1998-01-02         2.6   29.0   21.6            43            28  2.177387   \n",
       "1998-01-03         1.7   33.8   20.4            35            16  2.988294   \n",
       "1998-01-04         2.1   34.0   22.2            43            22  2.837267   \n",
       "1998-01-05         1.7   34.4   22.4            26            13  3.368273   \n",
       "...                ...    ...    ...           ...           ...       ...   \n",
       "2012-12-27         1.8   29.4   18.4            43            22  2.201886   \n",
       "2012-12-28         1.7   32.4   18.5            42            18  2.611593   \n",
       "2012-12-29         1.8   31.5   17.0            39            16  2.532276   \n",
       "2012-12-30         2.3   29.2   16.8            37            18  2.264097   \n",
       "2012-12-31         2.3   30.0   15.1            38            15  2.335373   \n",
       "\n",
       "            evaporation  solar radiation  year  month weekday name  \n",
       "date                                                                \n",
       "1998-01-01         4.75             20.8  1998      1     Thursday  \n",
       "1998-01-02         5.55             16.5  1998      1       Friday  \n",
       "1998-01-03         5.36             18.3  1998      1     Saturday  \n",
       "1998-01-04         6.13             21.9  1998      1       Sunday  \n",
       "1998-01-05         5.64             19.8  1998      1       Monday  \n",
       "...                 ...              ...   ...    ...          ...  \n",
       "2012-12-27         4.99             19.3  2012     12     Thursday  \n",
       "2012-12-28         5.37             21.4  2012     12       Friday  \n",
       "2012-12-29         5.45             21.7  2012     12     Saturday  \n",
       "2012-12-30         5.80             21.9  2012     12       Sunday  \n",
       "2012-12-31         5.88             21.5  2012     12       Monday  \n",
       "\n",
       "[5479 rows x 11 columns]"
      ]
     },
     "execution_count": 4,
     "metadata": {},
     "output_type": "execute_result"
    }
   ],
   "source": [
    "# Standardizing variable names, defining date index and adding new time variables\n",
    "\n",
    "df.columns = ['date', 'wind speed', 't max', 't min', 'humidity max', 'humidity min', 'vpd', 'evaporation', 'solar radiation']\n",
    "aux = df['date']\n",
    "df = df.set_index('date')\n",
    "df['year'] = df.index.year\n",
    "df['month'] = df.index.month\n",
    "df['weekday name'] = df.index.weekday_name\n",
    "\n",
    "df"
   ]
  },
  {
   "cell_type": "code",
   "execution_count": 5,
   "metadata": {},
   "outputs": [],
   "source": [
    "# Data split\n",
    "\n",
    "X_train, X_test = df.loc['1998':'2008'], df.loc['2009':'2012']\n",
    "y_train, y_test = X_train['solar radiation'], X_test['solar radiation']\n",
    "X_train = X_train.drop(['year', 'month', 'weekday name', 'solar radiation'], axis=1)\n",
    "X_test = X_test.drop(['year', 'month', 'weekday name', 'solar radiation'], axis=1)"
   ]
  },
  {
   "cell_type": "code",
   "execution_count": 6,
   "metadata": {},
   "outputs": [
    {
     "data": {
      "text/html": [
       "<div>\n",
       "<style scoped>\n",
       "    .dataframe tbody tr th:only-of-type {\n",
       "        vertical-align: middle;\n",
       "    }\n",
       "\n",
       "    .dataframe tbody tr th {\n",
       "        vertical-align: top;\n",
       "    }\n",
       "\n",
       "    .dataframe thead th {\n",
       "        text-align: right;\n",
       "    }\n",
       "</style>\n",
       "<table border=\"1\" class=\"dataframe\">\n",
       "  <thead>\n",
       "    <tr style=\"text-align: right;\">\n",
       "      <th></th>\n",
       "      <th>wind speed</th>\n",
       "      <th>t max</th>\n",
       "      <th>t min</th>\n",
       "      <th>humidity max</th>\n",
       "      <th>humidity min</th>\n",
       "      <th>vpd</th>\n",
       "      <th>evaporation</th>\n",
       "    </tr>\n",
       "    <tr>\n",
       "      <th>date</th>\n",
       "      <th></th>\n",
       "      <th></th>\n",
       "      <th></th>\n",
       "      <th></th>\n",
       "      <th></th>\n",
       "      <th></th>\n",
       "      <th></th>\n",
       "    </tr>\n",
       "  </thead>\n",
       "  <tbody>\n",
       "    <tr>\n",
       "      <th>1998-01-01</th>\n",
       "      <td>1.2</td>\n",
       "      <td>32.7</td>\n",
       "      <td>22.0</td>\n",
       "      <td>35</td>\n",
       "      <td>19</td>\n",
       "      <td>2.862456</td>\n",
       "      <td>4.75</td>\n",
       "    </tr>\n",
       "    <tr>\n",
       "      <th>1998-01-02</th>\n",
       "      <td>2.6</td>\n",
       "      <td>29.0</td>\n",
       "      <td>21.6</td>\n",
       "      <td>43</td>\n",
       "      <td>28</td>\n",
       "      <td>2.177387</td>\n",
       "      <td>5.55</td>\n",
       "    </tr>\n",
       "    <tr>\n",
       "      <th>1998-01-03</th>\n",
       "      <td>1.7</td>\n",
       "      <td>33.8</td>\n",
       "      <td>20.4</td>\n",
       "      <td>35</td>\n",
       "      <td>16</td>\n",
       "      <td>2.988294</td>\n",
       "      <td>5.36</td>\n",
       "    </tr>\n",
       "    <tr>\n",
       "      <th>1998-01-04</th>\n",
       "      <td>2.1</td>\n",
       "      <td>34.0</td>\n",
       "      <td>22.2</td>\n",
       "      <td>43</td>\n",
       "      <td>22</td>\n",
       "      <td>2.837267</td>\n",
       "      <td>6.13</td>\n",
       "    </tr>\n",
       "    <tr>\n",
       "      <th>1998-01-05</th>\n",
       "      <td>1.7</td>\n",
       "      <td>34.4</td>\n",
       "      <td>22.4</td>\n",
       "      <td>26</td>\n",
       "      <td>13</td>\n",
       "      <td>3.368273</td>\n",
       "      <td>5.64</td>\n",
       "    </tr>\n",
       "    <tr>\n",
       "      <th>...</th>\n",
       "      <td>...</td>\n",
       "      <td>...</td>\n",
       "      <td>...</td>\n",
       "      <td>...</td>\n",
       "      <td>...</td>\n",
       "      <td>...</td>\n",
       "      <td>...</td>\n",
       "    </tr>\n",
       "    <tr>\n",
       "      <th>2008-12-27</th>\n",
       "      <td>1.6</td>\n",
       "      <td>33.0</td>\n",
       "      <td>20.0</td>\n",
       "      <td>37</td>\n",
       "      <td>17</td>\n",
       "      <td>2.824070</td>\n",
       "      <td>5.24</td>\n",
       "    </tr>\n",
       "    <tr>\n",
       "      <th>2008-12-28</th>\n",
       "      <td>1.6</td>\n",
       "      <td>34.0</td>\n",
       "      <td>20.6</td>\n",
       "      <td>35</td>\n",
       "      <td>16</td>\n",
       "      <td>3.022719</td>\n",
       "      <td>5.38</td>\n",
       "    </tr>\n",
       "    <tr>\n",
       "      <th>2008-12-29</th>\n",
       "      <td>1.9</td>\n",
       "      <td>34.6</td>\n",
       "      <td>20.2</td>\n",
       "      <td>32</td>\n",
       "      <td>14</td>\n",
       "      <td>3.169722</td>\n",
       "      <td>5.99</td>\n",
       "    </tr>\n",
       "    <tr>\n",
       "      <th>2008-12-30</th>\n",
       "      <td>1.9</td>\n",
       "      <td>34.6</td>\n",
       "      <td>21.5</td>\n",
       "      <td>27</td>\n",
       "      <td>13</td>\n",
       "      <td>3.328321</td>\n",
       "      <td>6.04</td>\n",
       "    </tr>\n",
       "    <tr>\n",
       "      <th>2008-12-31</th>\n",
       "      <td>1.8</td>\n",
       "      <td>35.3</td>\n",
       "      <td>21.8</td>\n",
       "      <td>28</td>\n",
       "      <td>13</td>\n",
       "      <td>3.426988</td>\n",
       "      <td>5.94</td>\n",
       "    </tr>\n",
       "  </tbody>\n",
       "</table>\n",
       "<p>4018 rows × 7 columns</p>\n",
       "</div>"
      ],
      "text/plain": [
       "            wind speed  t max  t min  humidity max  humidity min       vpd  \\\n",
       "date                                                                         \n",
       "1998-01-01         1.2   32.7   22.0            35            19  2.862456   \n",
       "1998-01-02         2.6   29.0   21.6            43            28  2.177387   \n",
       "1998-01-03         1.7   33.8   20.4            35            16  2.988294   \n",
       "1998-01-04         2.1   34.0   22.2            43            22  2.837267   \n",
       "1998-01-05         1.7   34.4   22.4            26            13  3.368273   \n",
       "...                ...    ...    ...           ...           ...       ...   \n",
       "2008-12-27         1.6   33.0   20.0            37            17  2.824070   \n",
       "2008-12-28         1.6   34.0   20.6            35            16  3.022719   \n",
       "2008-12-29         1.9   34.6   20.2            32            14  3.169722   \n",
       "2008-12-30         1.9   34.6   21.5            27            13  3.328321   \n",
       "2008-12-31         1.8   35.3   21.8            28            13  3.426988   \n",
       "\n",
       "            evaporation  \n",
       "date                     \n",
       "1998-01-01         4.75  \n",
       "1998-01-02         5.55  \n",
       "1998-01-03         5.36  \n",
       "1998-01-04         6.13  \n",
       "1998-01-05         5.64  \n",
       "...                 ...  \n",
       "2008-12-27         5.24  \n",
       "2008-12-28         5.38  \n",
       "2008-12-29         5.99  \n",
       "2008-12-30         6.04  \n",
       "2008-12-31         5.94  \n",
       "\n",
       "[4018 rows x 7 columns]"
      ]
     },
     "execution_count": 6,
     "metadata": {},
     "output_type": "execute_result"
    }
   ],
   "source": [
    "X_train"
   ]
  },
  {
   "cell_type": "markdown",
   "metadata": {},
   "source": [
    "### A) Multiple Linear Regression Model Using The Original Variables"
   ]
  },
  {
   "cell_type": "code",
   "execution_count": 7,
   "metadata": {},
   "outputs": [
    {
     "data": {
      "text/plain": [
       "LinearRegression(copy_X=True, fit_intercept=True, n_jobs=None, normalize=False)"
      ]
     },
     "execution_count": 7,
     "metadata": {},
     "output_type": "execute_result"
    }
   ],
   "source": [
    "# Fitting multiple linear regression model to the training set\n",
    "\n",
    "regressor_orig = LinearRegression(copy_X=True, fit_intercept=True, n_jobs=None, normalize=False)\n",
    "regressor_orig.fit(X_train, y_train)"
   ]
  },
  {
   "cell_type": "code",
   "execution_count": 8,
   "metadata": {},
   "outputs": [],
   "source": [
    "# Predicting the test set results\n",
    "\n",
    "y_pred_orig = regressor_orig.predict(X_test)"
   ]
  },
  {
   "cell_type": "code",
   "execution_count": 9,
   "metadata": {},
   "outputs": [
    {
     "name": "stdout",
     "output_type": "stream",
     "text": [
      "MSE: 2.3362010790451495\n",
      "RMSE: 1.5284636335370068\n",
      "MAE: 1.1386623663068576\n",
      "R²: 0.8238964157730324\n",
      "R²_adj: 0.8235890030324866\n"
     ]
    }
   ],
   "source": [
    "# Calculation of metrics\n",
    "\n",
    "print(\"MSE:\", metrics.mean_squared_error(y_test, y_pred_orig, squared=True))\n",
    "print(\"RMSE:\", metrics.mean_squared_error(y_test, y_pred_orig, squared=False))\n",
    "print(\"MAE:\", metrics.mean_absolute_error(y_test, y_pred_orig))\n",
    "print(\"R²:\", metrics.r2_score(y_test, y_pred_orig))\n",
    "print(\"R²_adj:\", (1 - (1 - metrics.r2_score(y_test, y_pred_orig)) * ((X_train.shape[0] - 1) / (X_train.shape[0] - X_train.shape[1] - 1))))"
   ]
  },
  {
   "cell_type": "code",
   "execution_count": 10,
   "metadata": {},
   "outputs": [
    {
     "name": "stdout",
     "output_type": "stream",
     "text": [
      "Coefficients: [-4.18269064  0.24117324 -0.40734441 -0.05341603  0.09943898 -2.20061451\n",
      "  4.69147544]\n",
      "Intercept: 8.556249387249537\n"
     ]
    }
   ],
   "source": [
    "# Estimated coefficients and independent term values\n",
    "\n",
    "print(\"Coefficients:\", regressor_orig.coef_)\n",
    "print(\"Intercept:\", regressor_orig.intercept_)"
   ]
  },
  {
   "cell_type": "code",
   "execution_count": 11,
   "metadata": {},
   "outputs": [
    {
     "data": {
      "image/png": "[encoded data removed]",
      "text/plain": [
       "<Figure size 432x288 with 1 Axes>"
      ]
     },
     "metadata": {
      "needs_background": "light"
     },
     "output_type": "display_data"
    }
   ],
   "source": [
    "y_pred_orig_df = pd.DataFrame(data=y_pred_orig, index=aux[4018:])\n",
    "\n",
    "plt.figure()\n",
    "plt.plot(y_test)\n",
    "plt.plot(y_pred_orig_df, color='red')\n",
    "plt.title('Prediction vs Real Values')\n",
    "plt.xlabel('Date')\n",
    "plt.ylabel('Solar radiation')\n",
    "plt.show()"
   ]
  },
  {
   "cell_type": "markdown",
   "metadata": {},
   "source": [
    "### B) Multiple Linear Regression Model Adding Polynomial Features"
   ]
  },
  {
   "cell_type": "code",
   "execution_count": 12,
   "metadata": {},
   "outputs": [],
   "source": [
    "# Creating polynomial features (degree = 2, interaction_only=False)\n",
    "\n",
    "poly_train = PolynomialFeatures(2, interaction_only=False)\n",
    "poly_test = PolynomialFeatures(2, interaction_only=False)\n",
    "X_train_pol = poly_train.fit_transform(X_train)\n",
    "X_test_pol = poly_test.fit_transform(X_test)"
   ]
  },
  {
   "cell_type": "code",
   "execution_count": 13,
   "metadata": {},
   "outputs": [
    {
     "data": {
      "text/plain": [
       "LinearRegression(copy_X=True, fit_intercept=True, n_jobs=None, normalize=False)"
      ]
     },
     "execution_count": 13,
     "metadata": {},
     "output_type": "execute_result"
    }
   ],
   "source": [
    "# Fitting multiple linear regression model to the training set\n",
    "\n",
    "regressor_pol = LinearRegression(copy_X=True, fit_intercept=True, n_jobs=None, normalize=False)\n",
    "regressor_pol.fit(X_train_pol, y_train)"
   ]
  },
  {
   "cell_type": "code",
   "execution_count": 14,
   "metadata": {},
   "outputs": [],
   "source": [
    "# Predicting the test set results\n",
    "\n",
    "y_pred_pol = regressor_pol.predict(X_test_pol)"
   ]
  },
  {
   "cell_type": "code",
   "execution_count": 15,
   "metadata": {},
   "outputs": [
    {
     "name": "stdout",
     "output_type": "stream",
     "text": [
      "MSE: 0.32675668822441184\n",
      "RMSE: 0.5716263536825535\n",
      "MAE: 0.39916434808820767\n",
      "R²: 0.975368976376823\n",
      "R²_adj: 0.975146239162446\n"
     ]
    }
   ],
   "source": [
    "# Calculation of metrics\n",
    "\n",
    "print(\"MSE:\", metrics.mean_squared_error(y_test, y_pred_pol, squared=True))\n",
    "print(\"RMSE:\", metrics.mean_squared_error(y_test, y_pred_pol, squared=False))\n",
    "print(\"MAE:\", metrics.mean_absolute_error(y_test, y_pred_pol))\n",
    "print(\"R²:\", metrics.r2_score(y_test, y_pred_pol))\n",
    "print(\"R²_adj:\", (1 - (1 - metrics.r2_score(y_test, y_pred_pol)) * ((X_train_pol.shape[0] - 1) / (X_train_pol.shape[0] - X_train_pol.shape[1] - 1))))"
   ]
  },
  {
   "cell_type": "code",
   "execution_count": 16,
   "metadata": {},
   "outputs": [
    {
     "name": "stdout",
     "output_type": "stream",
     "text": [
      "Coefficients: [-1.50937775e-10 -2.01259117e+01 -2.53753894e+00  1.55872768e+00\n",
      "  4.62076539e-01 -3.82792512e-01 -1.21792214e+01  1.65938173e+01\n",
      " -3.85914213e-02  1.86690859e-01 -2.23876467e-01  1.65494029e-02\n",
      "  2.19717332e-01 -3.16586220e-01  7.43579822e-01  1.60746086e-01\n",
      " -8.33897387e-02 -1.92248191e-02 -2.04799868e-02 -8.03691075e-01\n",
      " -3.96289593e-01 -5.52602795e-02 -1.06787793e-02  5.12551459e-02\n",
      "  8.89570176e-01  1.91524745e-01 -1.84090700e-03  6.12644602e-03\n",
      "  1.25697410e-02  4.05269231e-02 -7.05486044e-03 -2.37320605e-02\n",
      " -1.08537394e-01  5.69238310e-01  4.66763044e-01 -1.65273541e-01]\n",
      "Intercept: 23.254133462997313\n"
     ]
    }
   ],
   "source": [
    "# Estimated coefficients and independent term values\n",
    "\n",
    "print(\"Coefficients:\", regressor_pol.coef_)\n",
    "print(\"Intercept:\", regressor_pol.intercept_)"
   ]
  },
  {
   "cell_type": "code",
   "execution_count": 17,
   "metadata": {},
   "outputs": [
    {
     "data": {
      "image/png": "[encoded data removed]",
      "text/plain": [
       "<Figure size 432x288 with 1 Axes>"
      ]
     },
     "metadata": {
      "needs_background": "light"
     },
     "output_type": "display_data"
    }
   ],
   "source": [
    "y_pred_pol_df = pd.DataFrame(data=y_pred_pol, index=aux[4018:])\n",
    "\n",
    "plt.figure()\n",
    "plt.plot(y_test)\n",
    "plt.plot(y_pred_pol_df, color='red')\n",
    "plt.title('Prediction vs Real Values')\n",
    "plt.xlabel('Date')\n",
    "plt.ylabel('Solar radiation')\n",
    "plt.show()"
   ]
  },
  {
   "cell_type": "code",
   "execution_count": 18,
   "metadata": {},
   "outputs": [],
   "source": [
    "# Insert KFold + Pipeline procedure"
   ]
  },
  {
   "cell_type": "code",
   "execution_count": null,
   "metadata": {},
   "outputs": [],
   "source": []
  }
 ],
 "metadata": {
  "kernelspec": {
   "display_name": "Python 3",
   "language": "python",
   "name": "python3"
  },
  "language_info": {
   "codemirror_mode": {
    "name": "ipython",
    "version": 3
   },
   "file_extension": ".py",
   "mimetype": "text/x-python",
   "name": "python",
   "nbconvert_exporter": "python",
   "pygments_lexer": "ipython3",
   "version": "3.7.4"
  }
 },
 "nbformat": 4,
 "nbformat_minor": 2
}
