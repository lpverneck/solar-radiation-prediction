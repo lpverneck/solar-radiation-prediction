{
 "cells": [
  {
   "cell_type": "code",
   "execution_count": 1,
   "metadata": {},
   "outputs": [],
   "source": [
    "%matplotlib inline\n",
    "#%matplotlib qt \n",
    "import os\n",
    "import numpy as np\n",
    "import pandas as pd\n",
    "import matplotlib.pyplot as plt"
   ]
  },
  {
   "cell_type": "code",
   "execution_count": 2,
   "metadata": {},
   "outputs": [],
   "source": [
    "class Station():\n",
    "    def __init__(self, d, a, io, ib, n):\n",
    "        self.name = n\n",
    "        self.poly_degree = d\n",
    "        self.alpha = a\n",
    "        self.interaction_only = io\n",
    "        self.include_bias = ib\n",
    "    def show(self):\n",
    "        print(self.name)\n",
    "        print(self.poly_degree)\n",
    "        print(self.alpha)\n",
    "        print(self.interaction_only)\n",
    "        print(self.include_bias)\n"
   ]
  },
  {
   "cell_type": "code",
   "execution_count": 3,
   "metadata": {},
   "outputs": [],
   "source": [
    "station_list = []"
   ]
  },
  {
   "cell_type": "code",
   "execution_count": 4,
   "metadata": {},
   "outputs": [],
   "source": [
    "data_dir = os.getcwd()[:-10] + '/data/raw'"
   ]
  },
  {
   "cell_type": "code",
   "execution_count": 5,
   "metadata": {},
   "outputs": [
    {
     "data": {
      "text/plain": [
       "'.gitignore'"
      ]
     },
     "execution_count": 5,
     "metadata": {},
     "output_type": "execute_result"
    }
   ],
   "source": [
    "files = os.listdir(data_dir)\n",
    "files.sort()\n",
    "files.pop(0)"
   ]
  },
  {
   "cell_type": "code",
   "execution_count": 6,
   "metadata": {},
   "outputs": [
    {
     "data": {
      "text/plain": [
       "['Bobo Dioulasso.xlsx',\n",
       " 'Boromo.xlsx',\n",
       " 'Bur Dedougou.xlsx',\n",
       " 'Dori.xlsx',\n",
       " \"Fada N'gourma.xlsx\",\n",
       " 'Gaoua.xlsx',\n",
       " 'Ouahigouya.xlsx',\n",
       " 'Po.xlsx']"
      ]
     },
     "execution_count": 6,
     "metadata": {},
     "output_type": "execute_result"
    }
   ],
   "source": [
    "files"
   ]
  },
  {
   "cell_type": "code",
   "execution_count": 7,
   "metadata": {},
   "outputs": [],
   "source": [
    "#@@@@@@@@@@@@@@@@@@@@@@@@\n",
    "for i in range(8):\n",
    "    data = pd.read_json(\"../results/hyperp_data_frequency_\" + str(i) + \".json\")\n",
    "    data.reset_index(inplace=True, drop=True)\n",
    "    \n",
    "    degree = []\n",
    "    al = []\n",
    "    inter = []\n",
    "    bias = []\n",
    "    \n",
    "    for j in range(30):\n",
    "        degree.append(data[\"best params\"][j]['poly_features__degree'])\n",
    "        al.append(data[\"best params\"][j]['ridge_reg__alpha'])\n",
    "        inter.append(data[\"best params\"][j]['poly_features__interaction_only'])\n",
    "        bias.append(data[\"best params\"][j]['poly_features__include_bias'])\n",
    "    \n",
    "    station_list.append(Station(d=degree, a=al, io=inter, ib=bias, n=files[i][:-5]))\n"
   ]
  },
  {
   "cell_type": "code",
   "execution_count": 8,
   "metadata": {},
   "outputs": [
    {
     "name": "stdout",
     "output_type": "stream",
     "text": [
      "Bobo Dioulasso\n",
      "[4, 4, 4, 4, 4, 4, 4, 4, 4, 4, 4, 4, 4, 4, 4, 4, 4, 4, 4, 4, 4, 4, 4, 4, 4, 4, 4, 4, 4, 4]\n",
      "[0.0001, 0.001, 0.0001, 0.01, 0.01, 0.001, 0.001, 0.001, 0.001, 0.001, 0.001, 0.0001, 0.001, 0.001, 0.0001, 0.001, 0.001, 0.001, 0.0001, 0.001, 0.001, 0.01, 0.0001, 0.001, 0.001, 0.001, 0.001, 0.001, 0.01, 0.0001]\n",
      "[False, False, False, False, False, False, False, False, False, False, False, False, False, False, False, False, False, False, False, False, False, False, False, False, False, False, False, False, False, False]\n",
      "[True, True, False, False, True, False, True, False, False, True, True, True, False, False, False, True, False, False, False, True, True, False, False, True, True, False, False, True, False, False]\n"
     ]
    }
   ],
   "source": [
    "station_list[0].show()"
   ]
  },
  {
   "cell_type": "code",
   "execution_count": 9,
   "metadata": {},
   "outputs": [
    {
     "data": {
      "text/plain": [
       "<matplotlib.axes._subplots.AxesSubplot at 0x7fadb1ae1af0>"
      ]
     },
     "execution_count": 9,
     "metadata": {},
     "output_type": "execute_result"
    },
    {
     "data": {
      "image/png": "[encoded data removed]",
      "text/plain": [
       "<Figure size 432x288 with 8 Axes>"
      ]
     },
     "metadata": {
      "needs_background": "light"
     },
     "output_type": "display_data"
    }
   ],
   "source": [
    "# Polynomial Degree\n",
    "df0 = pd.DataFrame({'Polynomial Degree': station_list[0].poly_degree})\n",
    "df1 = pd.DataFrame({'Polynomial Degree': station_list[1].poly_degree})\n",
    "df2 = pd.DataFrame({'Polynomial Degree': station_list[2].poly_degree})\n",
    "df3 = pd.DataFrame({'Polynomial Degree': station_list[3].poly_degree})\n",
    "df4 = pd.DataFrame({'Polynomial Degree': station_list[4].poly_degree})\n",
    "df5 = pd.DataFrame({'Polynomial Degree': station_list[5].poly_degree})\n",
    "df6 = pd.DataFrame({'Polynomial Degree': station_list[6].poly_degree})\n",
    "df7 = pd.DataFrame({'Polynomial Degree': station_list[7].poly_degree})\n",
    "\n",
    "\n",
    "figure, axes = plt.subplots(2, 4)\n",
    "df0.groupby('Polynomial Degree').size().plot(ax=axes[0,0], kind='bar')\n",
    "df1.groupby('Polynomial Degree').size().plot(ax=axes[0,1], kind='bar')\n",
    "df2.groupby('Polynomial Degree').size().plot(ax=axes[0,2], kind='bar')\n",
    "df3.groupby('Polynomial Degree').size().plot(ax=axes[0,3], kind='bar')\n",
    "df4.groupby('Polynomial Degree').size().plot(ax=axes[1,0], kind='bar')\n",
    "df5.groupby('Polynomial Degree').size().plot(ax=axes[1,1], kind='bar')\n",
    "df6.groupby('Polynomial Degree').size().plot(ax=axes[1,2], kind='bar')\n",
    "df7.groupby('Polynomial Degree').size().plot(ax=axes[1,3], kind='bar')"
   ]
  },
  {
   "cell_type": "code",
   "execution_count": 10,
   "metadata": {},
   "outputs": [
    {
     "data": {
      "text/plain": [
       "<matplotlib.axes._subplots.AxesSubplot at 0x7fadcedd5a30>"
      ]
     },
     "execution_count": 10,
     "metadata": {},
     "output_type": "execute_result"
    },
    {
     "data": {
      "image/png": "[encoded data removed]",
      "text/plain": [
       "<Figure size 432x288 with 8 Axes>"
      ]
     },
     "metadata": {
      "needs_background": "light"
     },
     "output_type": "display_data"
    }
   ],
   "source": [
    "# Alpha\n",
    "df0 = pd.DataFrame({'Alpha': station_list[0].alpha})\n",
    "df1 = pd.DataFrame({'Alpha': station_list[1].alpha})\n",
    "df2 = pd.DataFrame({'Alpha': station_list[2].alpha})\n",
    "df3 = pd.DataFrame({'Alpha': station_list[3].alpha})\n",
    "df4 = pd.DataFrame({'Alpha': station_list[4].alpha})\n",
    "df5 = pd.DataFrame({'Alpha': station_list[5].alpha})\n",
    "df6 = pd.DataFrame({'Alpha': station_list[6].alpha})\n",
    "df7 = pd.DataFrame({'Alpha': station_list[7].alpha})\n",
    "\n",
    "\n",
    "figure, axes = plt.subplots(2, 4)\n",
    "df0.groupby('Alpha').size().plot(ax=axes[0,0], kind='bar')\n",
    "df1.groupby('Alpha').size().plot(ax=axes[0,1], kind='bar')\n",
    "df2.groupby('Alpha').size().plot(ax=axes[0,2], kind='bar')\n",
    "df3.groupby('Alpha').size().plot(ax=axes[0,3], kind='bar')\n",
    "df4.groupby('Alpha').size().plot(ax=axes[1,0], kind='bar')\n",
    "df5.groupby('Alpha').size().plot(ax=axes[1,1], kind='bar')\n",
    "df6.groupby('Alpha').size().plot(ax=axes[1,2], kind='bar')\n",
    "df7.groupby('Alpha').size().plot(ax=axes[1,3], kind='bar')"
   ]
  },
  {
   "cell_type": "code",
   "execution_count": 11,
   "metadata": {},
   "outputs": [
    {
     "data": {
      "text/plain": [
       "<matplotlib.axes._subplots.AxesSubplot at 0x7fadc1b3d880>"
      ]
     },
     "execution_count": 11,
     "metadata": {},
     "output_type": "execute_result"
    },
    {
     "data": {
      "image/png": "[encoded data removed]",
      "text/plain": [
       "<Figure size 432x288 with 8 Axes>"
      ]
     },
     "metadata": {
      "needs_background": "light"
     },
     "output_type": "display_data"
    }
   ],
   "source": [
    "# interaction_only\n",
    "df0 = pd.DataFrame({'interaction_only': station_list[0].interaction_only})\n",
    "df1 = pd.DataFrame({'interaction_only': station_list[1].interaction_only})\n",
    "df2 = pd.DataFrame({'interaction_only': station_list[2].interaction_only})\n",
    "df3 = pd.DataFrame({'interaction_only': station_list[3].interaction_only})\n",
    "df4 = pd.DataFrame({'interaction_only': station_list[4].interaction_only})\n",
    "df5 = pd.DataFrame({'interaction_only': station_list[5].interaction_only})\n",
    "df6 = pd.DataFrame({'interaction_only': station_list[6].interaction_only})\n",
    "df7 = pd.DataFrame({'interaction_only': station_list[7].interaction_only})\n",
    "\n",
    "\n",
    "figure, axes = plt.subplots(2, 4)\n",
    "df0.groupby('interaction_only').size().plot(ax=axes[0,0], kind='bar')\n",
    "df1.groupby('interaction_only').size().plot(ax=axes[0,1], kind='bar')\n",
    "df2.groupby('interaction_only').size().plot(ax=axes[0,2], kind='bar')\n",
    "df3.groupby('interaction_only').size().plot(ax=axes[0,3], kind='bar')\n",
    "df4.groupby('interaction_only').size().plot(ax=axes[1,0], kind='bar')\n",
    "df5.groupby('interaction_only').size().plot(ax=axes[1,1], kind='bar')\n",
    "df6.groupby('interaction_only').size().plot(ax=axes[1,2], kind='bar')\n",
    "df7.groupby('interaction_only').size().plot(ax=axes[1,3], kind='bar')"
   ]
  },
  {
   "cell_type": "code",
   "execution_count": 12,
   "metadata": {},
   "outputs": [
    {
     "data": {
      "text/plain": [
       "<matplotlib.axes._subplots.AxesSubplot at 0x7fadc5c6c760>"
      ]
     },
     "execution_count": 12,
     "metadata": {},
     "output_type": "execute_result"
    },
    {
     "data": {
      "image/png": "[encoded data removed]",
      "text/plain": [
       "<Figure size 432x288 with 8 Axes>"
      ]
     },
     "metadata": {
      "needs_background": "light"
     },
     "output_type": "display_data"
    }
   ],
   "source": [
    "# include_bias\n",
    "df0 = pd.DataFrame({'include_bias': station_list[0].include_bias})\n",
    "df1 = pd.DataFrame({'include_bias': station_list[1].include_bias})\n",
    "df2 = pd.DataFrame({'include_bias': station_list[2].include_bias})\n",
    "df3 = pd.DataFrame({'include_bias': station_list[3].include_bias})\n",
    "df4 = pd.DataFrame({'include_bias': station_list[4].include_bias})\n",
    "df5 = pd.DataFrame({'include_bias': station_list[5].include_bias})\n",
    "df6 = pd.DataFrame({'include_bias': station_list[6].include_bias})\n",
    "df7 = pd.DataFrame({'include_bias': station_list[7].include_bias})\n",
    "\n",
    "\n",
    "figure, axes = plt.subplots(2, 4)\n",
    "df0.groupby('include_bias').size().plot(ax=axes[0,0], kind='bar')\n",
    "df1.groupby('include_bias').size().plot(ax=axes[0,1], kind='bar')\n",
    "df2.groupby('include_bias').size().plot(ax=axes[0,2], kind='bar')\n",
    "df3.groupby('include_bias').size().plot(ax=axes[0,3], kind='bar')\n",
    "df4.groupby('include_bias').size().plot(ax=axes[1,0], kind='bar')\n",
    "df5.groupby('include_bias').size().plot(ax=axes[1,1], kind='bar')\n",
    "df6.groupby('include_bias').size().plot(ax=axes[1,2], kind='bar')\n",
    "df7.groupby('include_bias').size().plot(ax=axes[1,3], kind='bar')"
   ]
  },
  {
   "cell_type": "code",
   "execution_count": null,
   "metadata": {},
   "outputs": [],
   "source": []
  }
 ],
 "metadata": {
  "kernelspec": {
   "display_name": "Python 3",
   "language": "python",
   "name": "python3"
  },
  "language_info": {
   "codemirror_mode": {
    "name": "ipython",
    "version": 3
   },
   "file_extension": ".py",
   "mimetype": "text/x-python",
   "name": "python",
   "nbconvert_exporter": "python",
   "pygments_lexer": "ipython3",
   "version": "3.8.3"
  }
 },
 "nbformat": 4,
 "nbformat_minor": 4
}
