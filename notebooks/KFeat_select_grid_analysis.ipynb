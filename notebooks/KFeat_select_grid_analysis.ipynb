{
 "cells": [
  {
   "cell_type": "code",
   "execution_count": 1,
   "metadata": {},
   "outputs": [],
   "source": [
    "#%matplotlib inline\n",
    "%matplotlib qt \n",
    "import os\n",
    "import numpy as np\n",
    "import pandas as pd\n",
    "import matplotlib.pyplot as plt"
   ]
  },
  {
   "cell_type": "code",
   "execution_count": 2,
   "metadata": {},
   "outputs": [],
   "source": [
    "class Station():\n",
    "    def __init__(self, d, a, io, ib, n, f_s):\n",
    "        self.name = n\n",
    "        self.poly_degree = d\n",
    "        self.alpha = a\n",
    "        self.interaction_only = io\n",
    "        self.include_bias = ib\n",
    "        self.feat_select = f_s\n",
    "    def show(self):\n",
    "        print(self.name)\n",
    "        print(self.poly_degree)\n",
    "        print(self.alpha)\n",
    "        print(self.interaction_only)\n",
    "        print(self.include_bias)\n",
    "        print(self.feat_select)"
   ]
  },
  {
   "cell_type": "code",
   "execution_count": 3,
   "metadata": {},
   "outputs": [],
   "source": [
    "station_list = []"
   ]
  },
  {
   "cell_type": "code",
   "execution_count": 4,
   "metadata": {},
   "outputs": [],
   "source": [
    "data_dir = os.getcwd()[:-10] + '/data/raw'"
   ]
  },
  {
   "cell_type": "code",
   "execution_count": 5,
   "metadata": {},
   "outputs": [
    {
     "data": {
      "text/plain": [
       "'.gitignore'"
      ]
     },
     "execution_count": 5,
     "metadata": {},
     "output_type": "execute_result"
    }
   ],
   "source": [
    "files = os.listdir(data_dir)\n",
    "files.sort()\n",
    "files.pop(0)"
   ]
  },
  {
   "cell_type": "code",
   "execution_count": 6,
   "metadata": {},
   "outputs": [
    {
     "data": {
      "text/plain": [
       "['Bobo Dioulasso.xlsx',\n",
       " 'Boromo.xlsx',\n",
       " 'Bur Dedougou.xlsx',\n",
       " 'Dori.xlsx',\n",
       " \"Fada N'gourma.xlsx\",\n",
       " 'Gaoua.xlsx',\n",
       " 'Ouahigouya.xlsx',\n",
       " 'Po.xlsx']"
      ]
     },
     "execution_count": 6,
     "metadata": {},
     "output_type": "execute_result"
    }
   ],
   "source": [
    "files"
   ]
  },
  {
   "cell_type": "code",
   "execution_count": 7,
   "metadata": {},
   "outputs": [],
   "source": [
    "#@@@@@@@@@@@@@@@@@@@@@@@@\n",
    "for i in range(8):\n",
    "    data = pd.read_json(\"../results/H-\" + str(i) + \".json\")\n",
    "    data.reset_index(inplace=True, drop=True)\n",
    "    \n",
    "    degree = []\n",
    "    al = []\n",
    "    inter = []\n",
    "    bias = []\n",
    "    feat = []\n",
    "    \n",
    "    for j in range(30):\n",
    "        degree.append(data[\"best params\"][j]['poly_features__degree'])\n",
    "        al.append(data[\"best params\"][j]['ridge_reg__alpha'])\n",
    "        inter.append(data[\"best params\"][j]['poly_features__interaction_only'])\n",
    "        bias.append(data[\"best params\"][j]['poly_features__include_bias'])\n",
    "        feat.append(data[\"best params\"][j]['features_select__k'])\n",
    "    \n",
    "    station_list.append(Station(d=degree, a=al, io=inter, ib=bias, n=files[i][:-5], f_s=feat))\n"
   ]
  },
  {
   "cell_type": "code",
   "execution_count": 8,
   "metadata": {},
   "outputs": [
    {
     "name": "stdout",
     "output_type": "stream",
     "text": [
      "Bobo Dioulasso\n",
      "[4, 4, 4, 4, 4, 4, 4, 4, 4, 4, 4, 4, 4, 4, 4, 4, 4, 4, 4, 4, 4, 4, 4, 4, 4, 4, 4, 4, 4, 4]\n",
      "[0.001, 0.001, 0.001, 0.001, 0.001, 0.001, 0.001, 0.001, 0.001, 0.001, 0.001, 0.001, 0.001, 0.001, 0.001, 0.001, 0.001, 0.001, 0.001, 0.001, 0.001, 0.001, 0.001, 0.001, 0.001, 0.001, 0.001, 0.001, 0.001, 0.001]\n",
      "[False, False, False, False, False, False, False, False, False, False, False, False, False, False, False, False, False, False, False, False, False, False, False, False, False, False, False, False, False, False]\n",
      "[False, False, False, False, False, False, False, False, False, False, False, False, False, False, False, False, False, False, False, False, False, False, False, False, False, False, False, False, False, False]\n",
      "[300, 270, 270, 270, 270, 270, 300, 270, 300, 300, 270, 270, 270, 270, 270, 270, 300, 270, 270, 270, 270, 270, 270, 270, 300, 300, 300, 300, 300, 270]\n"
     ]
    }
   ],
   "source": [
    "station_list[0].show()"
   ]
  },
  {
   "cell_type": "code",
   "execution_count": 9,
   "metadata": {},
   "outputs": [
    {
     "data": {
      "text/plain": [
       "<matplotlib.axes._subplots.AxesSubplot at 0x7f3eee0ca160>"
      ]
     },
     "execution_count": 9,
     "metadata": {},
     "output_type": "execute_result"
    }
   ],
   "source": [
    "# Polynomial Degree\n",
    "df0 = pd.DataFrame({'Polynomial Degree': station_list[0].poly_degree})\n",
    "df1 = pd.DataFrame({'Polynomial Degree': station_list[1].poly_degree})\n",
    "df2 = pd.DataFrame({'Polynomial Degree': station_list[2].poly_degree})\n",
    "df3 = pd.DataFrame({'Polynomial Degree': station_list[3].poly_degree})\n",
    "df4 = pd.DataFrame({'Polynomial Degree': station_list[4].poly_degree})\n",
    "df5 = pd.DataFrame({'Polynomial Degree': station_list[5].poly_degree})\n",
    "df6 = pd.DataFrame({'Polynomial Degree': station_list[6].poly_degree})\n",
    "df7 = pd.DataFrame({'Polynomial Degree': station_list[7].poly_degree})\n",
    "\n",
    "\n",
    "figure, axes = plt.subplots(2, 4)\n",
    "df0.groupby('Polynomial Degree').size().plot(ax=axes[0,0], kind='bar')\n",
    "df1.groupby('Polynomial Degree').size().plot(ax=axes[0,1], kind='bar')\n",
    "df2.groupby('Polynomial Degree').size().plot(ax=axes[0,2], kind='bar')\n",
    "df3.groupby('Polynomial Degree').size().plot(ax=axes[0,3], kind='bar')\n",
    "df4.groupby('Polynomial Degree').size().plot(ax=axes[1,0], kind='bar')\n",
    "df5.groupby('Polynomial Degree').size().plot(ax=axes[1,1], kind='bar')\n",
    "df6.groupby('Polynomial Degree').size().plot(ax=axes[1,2], kind='bar')\n",
    "df7.groupby('Polynomial Degree').size().plot(ax=axes[1,3], kind='bar')"
   ]
  },
  {
   "cell_type": "code",
   "execution_count": 10,
   "metadata": {},
   "outputs": [
    {
     "data": {
      "text/plain": [
       "<matplotlib.axes._subplots.AxesSubplot at 0x7f3eed80fe80>"
      ]
     },
     "execution_count": 10,
     "metadata": {},
     "output_type": "execute_result"
    }
   ],
   "source": [
    "# Alpha\n",
    "df0 = pd.DataFrame({'Alpha': station_list[0].alpha})\n",
    "df1 = pd.DataFrame({'Alpha': station_list[1].alpha})\n",
    "df2 = pd.DataFrame({'Alpha': station_list[2].alpha})\n",
    "df3 = pd.DataFrame({'Alpha': station_list[3].alpha})\n",
    "df4 = pd.DataFrame({'Alpha': station_list[4].alpha})\n",
    "df5 = pd.DataFrame({'Alpha': station_list[5].alpha})\n",
    "df6 = pd.DataFrame({'Alpha': station_list[6].alpha})\n",
    "df7 = pd.DataFrame({'Alpha': station_list[7].alpha})\n",
    "\n",
    "\n",
    "figure, axes = plt.subplots(2, 4)\n",
    "df0.groupby('Alpha').size().plot(ax=axes[0,0], kind='bar')\n",
    "df1.groupby('Alpha').size().plot(ax=axes[0,1], kind='bar')\n",
    "df2.groupby('Alpha').size().plot(ax=axes[0,2], kind='bar')\n",
    "df3.groupby('Alpha').size().plot(ax=axes[0,3], kind='bar')\n",
    "df4.groupby('Alpha').size().plot(ax=axes[1,0], kind='bar')\n",
    "df5.groupby('Alpha').size().plot(ax=axes[1,1], kind='bar')\n",
    "df6.groupby('Alpha').size().plot(ax=axes[1,2], kind='bar')\n",
    "df7.groupby('Alpha').size().plot(ax=axes[1,3], kind='bar')"
   ]
  },
  {
   "cell_type": "code",
   "execution_count": 11,
   "metadata": {},
   "outputs": [
    {
     "data": {
      "text/plain": [
       "<matplotlib.axes._subplots.AxesSubplot at 0x7f3eed2dba60>"
      ]
     },
     "execution_count": 11,
     "metadata": {},
     "output_type": "execute_result"
    }
   ],
   "source": [
    "# interaction_only\n",
    "df0 = pd.DataFrame({'interaction_only': station_list[0].interaction_only})\n",
    "df1 = pd.DataFrame({'interaction_only': station_list[1].interaction_only})\n",
    "df2 = pd.DataFrame({'interaction_only': station_list[2].interaction_only})\n",
    "df3 = pd.DataFrame({'interaction_only': station_list[3].interaction_only})\n",
    "df4 = pd.DataFrame({'interaction_only': station_list[4].interaction_only})\n",
    "df5 = pd.DataFrame({'interaction_only': station_list[5].interaction_only})\n",
    "df6 = pd.DataFrame({'interaction_only': station_list[6].interaction_only})\n",
    "df7 = pd.DataFrame({'interaction_only': station_list[7].interaction_only})\n",
    "\n",
    "\n",
    "figure, axes = plt.subplots(2, 4)\n",
    "df0.groupby('interaction_only').size().plot(ax=axes[0,0], kind='bar')\n",
    "df1.groupby('interaction_only').size().plot(ax=axes[0,1], kind='bar')\n",
    "df2.groupby('interaction_only').size().plot(ax=axes[0,2], kind='bar')\n",
    "df3.groupby('interaction_only').size().plot(ax=axes[0,3], kind='bar')\n",
    "df4.groupby('interaction_only').size().plot(ax=axes[1,0], kind='bar')\n",
    "df5.groupby('interaction_only').size().plot(ax=axes[1,1], kind='bar')\n",
    "df6.groupby('interaction_only').size().plot(ax=axes[1,2], kind='bar')\n",
    "df7.groupby('interaction_only').size().plot(ax=axes[1,3], kind='bar')"
   ]
  },
  {
   "cell_type": "code",
   "execution_count": 12,
   "metadata": {},
   "outputs": [
    {
     "data": {
      "text/plain": [
       "<matplotlib.axes._subplots.AxesSubplot at 0x7f3ee4307be0>"
      ]
     },
     "execution_count": 12,
     "metadata": {},
     "output_type": "execute_result"
    }
   ],
   "source": [
    "# include_bias\n",
    "df0 = pd.DataFrame({'include_bias': station_list[0].include_bias})\n",
    "df1 = pd.DataFrame({'include_bias': station_list[1].include_bias})\n",
    "df2 = pd.DataFrame({'include_bias': station_list[2].include_bias})\n",
    "df3 = pd.DataFrame({'include_bias': station_list[3].include_bias})\n",
    "df4 = pd.DataFrame({'include_bias': station_list[4].include_bias})\n",
    "df5 = pd.DataFrame({'include_bias': station_list[5].include_bias})\n",
    "df6 = pd.DataFrame({'include_bias': station_list[6].include_bias})\n",
    "df7 = pd.DataFrame({'include_bias': station_list[7].include_bias})\n",
    "\n",
    "\n",
    "figure, axes = plt.subplots(2, 4)\n",
    "df0.groupby('include_bias').size().plot(ax=axes[0,0], kind='bar')\n",
    "df1.groupby('include_bias').size().plot(ax=axes[0,1], kind='bar')\n",
    "df2.groupby('include_bias').size().plot(ax=axes[0,2], kind='bar')\n",
    "df3.groupby('include_bias').size().plot(ax=axes[0,3], kind='bar')\n",
    "df4.groupby('include_bias').size().plot(ax=axes[1,0], kind='bar')\n",
    "df5.groupby('include_bias').size().plot(ax=axes[1,1], kind='bar')\n",
    "df6.groupby('include_bias').size().plot(ax=axes[1,2], kind='bar')\n",
    "df7.groupby('include_bias').size().plot(ax=axes[1,3], kind='bar')"
   ]
  },
  {
   "cell_type": "code",
   "execution_count": 13,
   "metadata": {},
   "outputs": [
    {
     "data": {
      "text/plain": [
       "<matplotlib.axes._subplots.AxesSubplot at 0x7f3ee4124220>"
      ]
     },
     "execution_count": 13,
     "metadata": {},
     "output_type": "execute_result"
    }
   ],
   "source": [
    "# include_bias\n",
    "df0 = pd.DataFrame({'feat_select': station_list[0].feat_select})\n",
    "df1 = pd.DataFrame({'feat_select': station_list[1].feat_select})\n",
    "df2 = pd.DataFrame({'feat_select': station_list[2].feat_select})\n",
    "df3 = pd.DataFrame({'feat_select': station_list[3].feat_select})\n",
    "df4 = pd.DataFrame({'feat_select': station_list[4].feat_select})\n",
    "df5 = pd.DataFrame({'feat_select': station_list[5].feat_select})\n",
    "df6 = pd.DataFrame({'feat_select': station_list[6].feat_select})\n",
    "df7 = pd.DataFrame({'feat_select': station_list[7].feat_select})\n",
    "\n",
    "\n",
    "figure, axes = plt.subplots(2, 4)\n",
    "df0.groupby('feat_select').size().plot(ax=axes[0,0], kind='bar')\n",
    "df1.groupby('feat_select').size().plot(ax=axes[0,1], kind='bar')\n",
    "df2.groupby('feat_select').size().plot(ax=axes[0,2], kind='bar')\n",
    "df3.groupby('feat_select').size().plot(ax=axes[0,3], kind='bar')\n",
    "df4.groupby('feat_select').size().plot(ax=axes[1,0], kind='bar')\n",
    "df5.groupby('feat_select').size().plot(ax=axes[1,1], kind='bar')\n",
    "df6.groupby('feat_select').size().plot(ax=axes[1,2], kind='bar')\n",
    "df7.groupby('feat_select').size().plot(ax=axes[1,3], kind='bar')"
   ]
  },
  {
   "cell_type": "code",
   "execution_count": null,
   "metadata": {},
   "outputs": [],
   "source": []
  }
 ],
 "metadata": {
  "kernelspec": {
   "display_name": "Python 3",
   "language": "python",
   "name": "python3"
  },
  "language_info": {
   "codemirror_mode": {
    "name": "ipython",
    "version": 3
   },
   "file_extension": ".py",
   "mimetype": "text/x-python",
   "name": "python",
   "nbconvert_exporter": "python",
   "pygments_lexer": "ipython3",
   "version": "3.8.3"
  }
 },
 "nbformat": 4,
 "nbformat_minor": 4
}
